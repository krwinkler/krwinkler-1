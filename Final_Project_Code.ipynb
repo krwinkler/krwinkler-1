{
 "cells": [
  {
   "cell_type": "code",
   "execution_count": 1,
   "metadata": {},
   "outputs": [],
   "source": [
    "#import arcpy\n",
    "import arcpy"
   ]
  },
  {
   "cell_type": "code",
   "execution_count": 2,
   "metadata": {},
   "outputs": [],
   "source": [
    "#set overwrite output to true allowing for you to \n",
    "#overwrite output files if you \n",
    "#make a mistake\n",
    "arcpy.env.overwriteOutput = True"
   ]
  },
  {
   "cell_type": "code",
   "execution_count": 4,
   "metadata": {},
   "outputs": [],
   "source": [
    "#Set the folder location of the project\n",
    "#YOU WILL NEED TO CHANGE FOLDER LOCATION\n",
    "#FOR YOUR COMPUTER TO THE LOCATION THE DATA FILES ARE SAVED IN\n",
    "folder = \"C:/Users/Krwinkler/Desktop/project\""
   ]
  },
  {
   "cell_type": "code",
   "execution_count": 5,
   "metadata": {},
   "outputs": [
    {
     "data": {
      "text/html": [
       "<h2>Output</h2>C:/Users/Krwinkler/Desktop/project\\Final_Project.gdb<h2>Messages</h2>Start Time: Thursday, May 6, 2021 11:42:08 AM<br/>Succeeded at Thursday, May 6, 2021 11:42:08 AM (Elapsed Time: 0.10 seconds)<br/><style>.rendered_html td, .rendered_html th {text-align: left;}.rendered_html tbody {border: 1px solid black;}</style>"
      ],
      "text/plain": [
       "<Result 'C:/Users/Krwinkler/Desktop/project\\\\Final_Project.gdb'>"
      ]
     },
     "execution_count": 5,
     "metadata": {},
     "output_type": "execute_result"
    }
   ],
   "source": [
    "#we created a geodatabase to copy the data into. When I turn this in \n",
    "#all of the data will already be in a geodatabase to make it easier for\n",
    "#you to test our code\n",
    "#I'm not sure if you will have to not run this line or if it will copy\n",
    "#from one gdb to the other\n",
    "#THE FIRST PARAMITER WILL NEED TO BE CHANGE FOR YOUR COMPUTER\n",
    "arcpy.management.CreateFileGDB(\"C:/Users/Krwinkler/Desktop/project\", \"Final_Project.gdb\")"
   ]
  },
  {
   "cell_type": "code",
   "execution_count": 6,
   "metadata": {},
   "outputs": [],
   "source": [
    "#set the workspace to the location of the geodatabase that we just made\n",
    "#WILL NEED TO BE CHANGE FOR DIFFERENT COMPUTERS\n",
    "arcpy.env.workspace = \"C:/Users/Krwinkler/Desktop/project/Final_Project.gdb\""
   ]
  },
  {
   "cell_type": "code",
   "execution_count": 7,
   "metadata": {},
   "outputs": [],
   "source": [
    "#set variable cafo_shp to folder + the location within the folder\n",
    "#and shp file for cafos\n",
    "cafo_shp = folder + \"/CAFO_Data/Animal_Feeding_Operations.shp\""
   ]
  },
  {
   "cell_type": "code",
   "execution_count": 12,
   "metadata": {},
   "outputs": [],
   "source": [
    "#set variable wells_shp to folder + the location within the folder\n",
    "#and shp file for wells\n",
    "wells_shp = folder + \"/Wells_data/PWTS_Wells.shp\""
   ]
  },
  {
   "cell_type": "code",
   "execution_count": 9,
   "metadata": {},
   "outputs": [],
   "source": [
    "#set a variable that we will copy the CAFO.shp file to in the new gdb\n",
    "cafoFC = \"cafo\""
   ]
  },
  {
   "cell_type": "code",
   "execution_count": 10,
   "metadata": {},
   "outputs": [],
   "source": [
    "#set a variable that we will copy the wells.shp file to in the new gdb\n",
    "wellsFC = \"wells\""
   ]
  },
  {
   "cell_type": "code",
   "execution_count": 13,
   "metadata": {
    "scrolled": true
   },
   "outputs": [
    {
     "data": {
      "text/html": [
       "<h2>Output</h2>C:/Users/Krwinkler/Desktop/project/Final_Project.gdb\\wells<h2>Messages</h2>Start Time: Thursday, May 6, 2021 11:45:23 AM<br/>Succeeded at Thursday, May 6, 2021 11:45:37 AM (Elapsed Time: 14.01 seconds)<br/><style>.rendered_html td, .rendered_html th {text-align: left;}.rendered_html tbody {border: 1px solid black;}</style>"
      ],
      "text/plain": [
       "<Result 'C:/Users/Krwinkler/Desktop/project/Final_Project.gdb\\\\wells'>"
      ]
     },
     "execution_count": 13,
     "metadata": {},
     "output_type": "execute_result"
    }
   ],
   "source": [
    "#this copies the wells shp file to the wellsFC variable and does this in\n",
    "#the workspace with is our new gdb\n",
    "arcpy.CopyFeatures_management(wells_shp, wellsFC)"
   ]
  },
  {
   "cell_type": "code",
   "execution_count": 14,
   "metadata": {},
   "outputs": [
    {
     "data": {
      "text/html": [
       "<h2>Output</h2>C:/Users/Krwinkler/Desktop/project/Final_Project.gdb\\cafo<h2>Messages</h2>Start Time: Thursday, May 6, 2021 11:45:46 AM<br/>Succeeded at Thursday, May 6, 2021 11:45:49 AM (Elapsed Time: 2.77 seconds)<br/><style>.rendered_html td, .rendered_html th {text-align: left;}.rendered_html tbody {border: 1px solid black;}</style>"
      ],
      "text/plain": [
       "<Result 'C:/Users/Krwinkler/Desktop/project/Final_Project.gdb\\\\cafo'>"
      ]
     },
     "execution_count": 14,
     "metadata": {},
     "output_type": "execute_result"
    }
   ],
   "source": [
    "#this copies the Cafo shp file to the cafoFC variable and does this in\n",
    "#the workspace with is our new gdb\n",
    "arcpy.CopyFeatures_management(cafo_shp, cafoFC)"
   ]
  },
  {
   "cell_type": "code",
   "execution_count": 15,
   "metadata": {},
   "outputs": [],
   "source": [
    "#set teh variable dem to the folder + the folder within it that \n",
    "#contains the DEM and the name of the DEM file\n",
    "dem = folder + \"/DEM/DEM_3m_I_52.img\""
   ]
  },
  {
   "cell_type": "code",
   "execution_count": 16,
   "metadata": {
    "scrolled": false
   },
   "outputs": [
    {
     "data": {
      "text/html": [
       "<h2>Output</h2>C:/Users/Krwinkler/Desktop/project/Final_Project.gdb\\dem<h2>Messages</h2>Start Time: Thursday, May 6, 2021 11:46:39 AM<br/>Building Pyramids...<br/>Calculating Statistics...<br/>Succeeded at Thursday, May 6, 2021 11:47:25 AM (Elapsed Time: 45.31 seconds)<br/><style>.rendered_html td, .rendered_html th {text-align: left;}.rendered_html tbody {border: 1px solid black;}</style>"
      ],
      "text/plain": [
       "<Result 'C:/Users/Krwinkler/Desktop/project/Final_Project.gdb\\\\dem'>"
      ]
     },
     "execution_count": 16,
     "metadata": {},
     "output_type": "execute_result"
    }
   ],
   "source": [
    "#this copies the raster to a new file called \"dem\" within the new gdb\n",
    "arcpy.CopyRaster_management(dem,\"dem\")"
   ]
  },
  {
   "cell_type": "code",
   "execution_count": 17,
   "metadata": {},
   "outputs": [],
   "source": [
    "#we need to import these from arcpy to allow us to do \n",
    "#raster analysis\n",
    "from arcpy import env\n",
    "from arcpy.sa import *"
   ]
  },
  {
   "cell_type": "code",
   "execution_count": null,
   "metadata": {},
   "outputs": [],
   "source": [
    "#the fill function fills any holes in the raster data\n",
    "#outFill.save saves the output into the workspace\n",
    "outFill = Fill(\"dem\")\n",
    "outFill.save(\"dem_fill\")"
   ]
  },
  {
   "cell_type": "code",
   "execution_count": 19,
   "metadata": {},
   "outputs": [],
   "source": [
    "#the FlowDirection function preforms a kind of raster analysis \n",
    "#that determines the direction of flow in the raster\n",
    "#outFlowDirection.save saves the output file in the workspace\n",
    "outFlowDirection = FlowDirection(\"dem_fill\")\n",
    "outFlowDirection.save(\"flow_dir\")"
   ]
  },
  {
   "cell_type": "code",
   "execution_count": 20,
   "metadata": {},
   "outputs": [],
   "source": [
    "#FlowAccumulation tool finds the canels that the water flows \n",
    "#into, this prevent there from being five small streams running \n",
    "#next to one another and instead combines them into one canel which \n",
    "#is more realistic\n",
    "outFlowAccumulation = FlowAccumulation(outFlowDirection)"
   ]
  },
  {
   "cell_type": "code",
   "execution_count": null,
   "metadata": {},
   "outputs": [],
   "source": [
    "#SnapPourPoints snaps the created streams and snaps them to points\n",
    "#for this we use the wellsFC as the points we snap to\n",
    "outSnapPour = SnapPourPoint(wellsFC, outFlowAccumulation, 100)\n",
    "# outSnapPour.save saves the output file into the workspace \n",
    "outSnapPour.save(\"snappntwells\")"
   ]
  },
  {
   "cell_type": "code",
   "execution_count": null,
   "metadata": {},
   "outputs": [],
   "source": [
    "#Watershed tool takes the flow_dir, snap points and uses them\n",
    "#to create a watershed\n",
    "outWatershed = Watershed(\"flow_dir\", \"snappntwells\", \"VALUE\")\n",
    "# outWatershed.save saves the watershed to the workspace \n",
    "outWatershed.save(\"wells_watershed\")"
   ]
  },
  {
   "cell_type": "code",
   "execution_count": null,
   "metadata": {},
   "outputs": [],
   "source": [
    "#raster to polygon conversion is done on the output water shed\n",
    "#to make the output watershed a polygon allowing us to use \n",
    "#summarize within\n",
    "arcpy.RasterToPolygon_conversion(\"wells_watershed\", \"watershed_polygons\", \"NO_SIMPLIFY\", \"VALUE\")"
   ]
  },
  {
   "cell_type": "code",
   "execution_count": null,
   "metadata": {},
   "outputs": [],
   "source": [
    "#summariveWithin tool to get a count of the cafos within the watershed\n",
    "arcpy.analysis.SummarizeWithin(\"watershed_polygons\", \"cafo\", \"watershed_CAFO_poly\")"
   ]
  },
  {
   "cell_type": "code",
   "execution_count": null,
   "metadata": {},
   "outputs": [],
   "source": [
    "#summariveWithin tool to get a count of the wells within the watershed\n",
    "arcpy.analysis.SummarizeWithin(\"watershed_polygons\", \"wells\", \"watershed_wells_poly\")"
   ]
  }
 ],
 "metadata": {
  "kernelspec": {
   "display_name": "ArcGISPro",
   "language": "Python",
   "name": "python3"
  },
  "language_info": {
   "file_extension": ".py",
   "name": "python",
   "version": "3"
  }
 },
 "nbformat": 4,
 "nbformat_minor": 2
}
